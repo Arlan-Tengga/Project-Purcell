{
 "cells": [
  {
   "cell_type": "code",
   "execution_count": 1,
   "id": "eda0756f",
   "metadata": {},
   "outputs": [],
   "source": [
    "import sympy as smp"
   ]
  },
  {
   "cell_type": "code",
   "execution_count": 2,
   "id": "74257322",
   "metadata": {},
   "outputs": [],
   "source": [
    "x = smp.Symbol('x')\n",
    "y = smp.Function('y')(x)\n"
   ]
  },
  {
   "cell_type": "code",
   "execution_count": 4,
   "id": "fa3733a3",
   "metadata": {},
   "outputs": [
    {
     "data": {
      "text/latex": [
       "$\\displaystyle - 5 y{\\left(x \\right)} + 4 \\frac{d}{d x} y{\\left(x \\right)} + \\frac{d^{2}}{d x^{2}} y{\\left(x \\right)} = 7 e^{2 x}$"
      ],
      "text/plain": [
       "Eq(-5*y(x) + 4*Derivative(y(x), x) + Derivative(y(x), (x, 2)), 7*exp(2*x))"
      ]
     },
     "execution_count": 4,
     "metadata": {},
     "output_type": "execute_result"
    }
   ],
   "source": [
    "f = smp.Eq(y.diff(x,2)+4*y.diff(x,1)-5*y,7*smp.exp(2*x))\n",
    "f"
   ]
  },
  {
   "cell_type": "code",
   "execution_count": 5,
   "id": "4a111ba2",
   "metadata": {},
   "outputs": [
    {
     "data": {
      "text/latex": [
       "$\\displaystyle y{\\left(x \\right)} = C_{1} e^{- 5 x} + C_{2} e^{x} + e^{2 x}$"
      ],
      "text/plain": [
       "Eq(y(x), C1*exp(-5*x) + C2*exp(x) + exp(2*x))"
      ]
     },
     "execution_count": 5,
     "metadata": {},
     "output_type": "execute_result"
    }
   ],
   "source": [
    "smp.dsolve(f)"
   ]
  }
 ],
 "metadata": {
  "kernelspec": {
   "display_name": "venv",
   "language": "python",
   "name": "python3"
  },
  "language_info": {
   "codemirror_mode": {
    "name": "ipython",
    "version": 3
   },
   "file_extension": ".py",
   "mimetype": "text/x-python",
   "name": "python",
   "nbconvert_exporter": "python",
   "pygments_lexer": "ipython3",
   "version": "3.13.3"
  }
 },
 "nbformat": 4,
 "nbformat_minor": 5
}
