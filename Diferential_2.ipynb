{
 "cells": [
  {
   "cell_type": "code",
   "execution_count": 4,
   "id": "eda0756f",
   "metadata": {},
   "outputs": [],
   "source": [
    "import sympy as smp"
   ]
  },
  {
   "cell_type": "code",
   "execution_count": 5,
   "id": "74257322",
   "metadata": {},
   "outputs": [],
   "source": [
    "x = smp.Symbol('x')\n",
    "y = smp.Function('y')(x)\n"
   ]
  },
  {
   "cell_type": "code",
   "execution_count": 6,
   "id": "fa3733a3",
   "metadata": {},
   "outputs": [
    {
     "data": {
      "text/latex": [
       "$\\displaystyle - 5 y{\\left(x \\right)} + 4 \\frac{d}{d x} y{\\left(x \\right)} + \\frac{d^{2}}{d x^{2}} y{\\left(x \\right)} = 7 e^{2 x}$"
      ],
      "text/plain": [
       "Eq(-5*y(x) + 4*Derivative(y(x), x) + Derivative(y(x), (x, 2)), 7*exp(2*x))"
      ]
     },
     "execution_count": 6,
     "metadata": {},
     "output_type": "execute_result"
    }
   ],
   "source": [
    "f = smp.Eq(y.diff(x,2)+4*y.diff(x,1)-5*y,7*smp.exp(2*x))\n",
    "f"
   ]
  },
  {
   "cell_type": "code",
   "execution_count": 7,
   "id": "4a111ba2",
   "metadata": {},
   "outputs": [
    {
     "data": {
      "text/latex": [
       "$\\displaystyle y{\\left(x \\right)} = C_{1} e^{- 5 x} + C_{2} e^{x} + e^{2 x}$"
      ],
      "text/plain": [
       "Eq(y(x), C1*exp(-5*x) + C2*exp(x) + exp(2*x))"
      ]
     },
     "execution_count": 7,
     "metadata": {},
     "output_type": "execute_result"
    }
   ],
   "source": [
    "smp.dsolve(f)"
   ]
  },
  {
   "cell_type": "markdown",
   "id": "87e30b80",
   "metadata": {},
   "source": [
    "$y'' -4y = 10$"
   ]
  },
  {
   "cell_type": "code",
   "execution_count": 10,
   "id": "2d0a3861",
   "metadata": {},
   "outputs": [
    {
     "data": {
      "text/latex": [
       "$\\displaystyle - 4 y{\\left(x \\right)} + \\frac{d^{2}}{d x^{2}} y{\\left(x \\right)} = 10$"
      ],
      "text/plain": [
       "Eq(-4*y(x) + Derivative(y(x), (x, 2)), 10)"
      ]
     },
     "execution_count": 10,
     "metadata": {},
     "output_type": "execute_result"
    }
   ],
   "source": [
    "f = smp.Eq(y.diff(x,2)-4*y,10)\n",
    "f"
   ]
  },
  {
   "cell_type": "code",
   "execution_count": 11,
   "id": "3f448e5a",
   "metadata": {},
   "outputs": [
    {
     "data": {
      "text/latex": [
       "$\\displaystyle y{\\left(x \\right)} = C_{1} e^{- 2 x} + C_{2} e^{2 x} - \\frac{5}{2}$"
      ],
      "text/plain": [
       "Eq(y(x), C1*exp(-2*x) + C2*exp(2*x) - 5/2)"
      ]
     },
     "execution_count": 11,
     "metadata": {},
     "output_type": "execute_result"
    }
   ],
   "source": [
    "smp.dsolve(f)"
   ]
  },
  {
   "cell_type": "code",
   "execution_count": 14,
   "id": "330767d6",
   "metadata": {},
   "outputs": [
    {
     "data": {
      "text/latex": [
       "$\\displaystyle 4 y{\\left(x \\right)} - 4 \\frac{d}{d x} y{\\left(x \\right)} + \\frac{d^{2}}{d x^{2}} y{\\left(x \\right)} = 16$"
      ],
      "text/plain": [
       "Eq(4*y(x) - 4*Derivative(y(x), x) + Derivative(y(x), (x, 2)), 16)"
      ]
     },
     "execution_count": 14,
     "metadata": {},
     "output_type": "execute_result"
    }
   ],
   "source": [
    "f = smp.Eq(y.diff(x,2)-4*y.diff(x)+4*y,16)\n",
    "f"
   ]
  },
  {
   "cell_type": "code",
   "execution_count": 15,
   "id": "b6b313fb",
   "metadata": {},
   "outputs": [
    {
     "data": {
      "text/latex": [
       "$\\displaystyle y{\\left(x \\right)} = \\left(C_{1} + C_{2} x\\right) e^{2 x} + 4$"
      ],
      "text/plain": [
       "Eq(y(x), (C1 + C2*x)*exp(2*x) + 4)"
      ]
     },
     "execution_count": 15,
     "metadata": {},
     "output_type": "execute_result"
    }
   ],
   "source": [
    "smp.dsolve(f)"
   ]
  },
  {
   "cell_type": "code",
   "execution_count": 17,
   "id": "9e0e4c30",
   "metadata": {},
   "outputs": [
    {
     "data": {
      "text/latex": [
       "$\\displaystyle - 2 y{\\left(x \\right)} + \\frac{d}{d x} y{\\left(x \\right)} + \\frac{d^{2}}{d x^{2}} y{\\left(x \\right)} = e^{2 x}$"
      ],
      "text/plain": [
       "Eq(-2*y(x) + Derivative(y(x), x) + Derivative(y(x), (x, 2)), exp(2*x))"
      ]
     },
     "execution_count": 17,
     "metadata": {},
     "output_type": "execute_result"
    }
   ],
   "source": [
    "f = smp.Eq(y.diff(x,2)+y.diff(x)-2*y,smp.exp(2*x))\n",
    "f"
   ]
  },
  {
   "cell_type": "code",
   "execution_count": 18,
   "id": "4993e126",
   "metadata": {},
   "outputs": [
    {
     "data": {
      "text/latex": [
       "$\\displaystyle y{\\left(x \\right)} = C_{1} e^{- 2 x} + C_{2} e^{x} + \\frac{e^{2 x}}{4}$"
      ],
      "text/plain": [
       "Eq(y(x), C1*exp(-2*x) + C2*exp(x) + exp(2*x)/4)"
      ]
     },
     "execution_count": 18,
     "metadata": {},
     "output_type": "execute_result"
    }
   ],
   "source": [
    "smp.dsolve(f)"
   ]
  },
  {
   "cell_type": "code",
   "execution_count": 22,
   "id": "18f9562d",
   "metadata": {},
   "outputs": [
    {
     "data": {
      "text/latex": [
       "$\\displaystyle - 3 y{\\left(x \\right)} - 2 \\frac{d}{d x} y{\\left(x \\right)} + \\frac{d^{2}}{d x^{2}} y{\\left(x \\right)} = 24 e^{- 3 x}$"
      ],
      "text/plain": [
       "Eq(-3*y(x) - 2*Derivative(y(x), x) + Derivative(y(x), (x, 2)), 24*exp(-3*x))"
      ]
     },
     "execution_count": 22,
     "metadata": {},
     "output_type": "execute_result"
    }
   ],
   "source": [
    "f = smp.Eq(y.diff(x,2)-2*y.diff(x)-3*y,24*smp.exp(-3*x))\n",
    "f"
   ]
  },
  {
   "cell_type": "code",
   "execution_count": 23,
   "id": "80d3e039",
   "metadata": {},
   "outputs": [
    {
     "data": {
      "text/latex": [
       "$\\displaystyle y{\\left(x \\right)} = C_{1} e^{- x} + C_{2} e^{3 x} + 2 e^{- 3 x}$"
      ],
      "text/plain": [
       "Eq(y(x), C1*exp(-x) + C2*exp(3*x) + 2*exp(-3*x))"
      ]
     },
     "execution_count": 23,
     "metadata": {},
     "output_type": "execute_result"
    }
   ],
   "source": [
    "smp.dsolve(f)"
   ]
  },
  {
   "cell_type": "code",
   "execution_count": 25,
   "id": "7ceea482",
   "metadata": {},
   "outputs": [
    {
     "data": {
      "text/latex": [
       "$\\displaystyle 9 y{\\left(x \\right)} + 6 \\frac{d}{d x} y{\\left(x \\right)} + \\frac{d^{2}}{d x^{2}} y{\\left(x \\right)} = 12 e^{- x}$"
      ],
      "text/plain": [
       "Eq(9*y(x) + 6*Derivative(y(x), x) + Derivative(y(x), (x, 2)), 12*exp(-x))"
      ]
     },
     "execution_count": 25,
     "metadata": {},
     "output_type": "execute_result"
    }
   ],
   "source": [
    "f = smp.Eq(y.diff(x,2)+6*y.diff(x)+9*y,12*smp.exp(-x))\n",
    "f"
   ]
  },
  {
   "cell_type": "code",
   "execution_count": 26,
   "id": "79d72115",
   "metadata": {},
   "outputs": [
    {
     "data": {
      "text/latex": [
       "$\\displaystyle y{\\left(x \\right)} = \\left(\\left(C_{1} + C_{2} x\\right) e^{- 2 x} + 3\\right) e^{- x}$"
      ],
      "text/plain": [
       "Eq(y(x), ((C1 + C2*x)*exp(-2*x) + 3)*exp(-x))"
      ]
     },
     "execution_count": 26,
     "metadata": {},
     "output_type": "execute_result"
    }
   ],
   "source": [
    "smp.dsolve(f)"
   ]
  },
  {
   "cell_type": "code",
   "execution_count": 30,
   "id": "34d4f89d",
   "metadata": {},
   "outputs": [
    {
     "data": {
      "text/latex": [
       "$\\displaystyle 9 y{\\left(x \\right)} + 6 \\frac{d}{d x} y{\\left(x \\right)} + \\frac{d^{2}}{d x^{2}} y{\\left(x \\right)} = 40 e^{4 x}$"
      ],
      "text/plain": [
       "Eq(9*y(x) + 6*Derivative(y(x), x) + Derivative(y(x), (x, 2)), 40*exp(4*x))"
      ]
     },
     "execution_count": 30,
     "metadata": {},
     "output_type": "execute_result"
    }
   ],
   "source": [
    "f = smp.Eq(y.diff(x,2)+6*y.diff(x)+9*y,40*smp.exp(4*x))\n",
    "f"
   ]
  },
  {
   "cell_type": "code",
   "execution_count": 31,
   "id": "07e14244",
   "metadata": {},
   "outputs": [
    {
     "data": {
      "text/latex": [
       "$\\displaystyle y{\\left(x \\right)} = \\left(C_{1} + C_{2} x\\right) e^{- 3 x} + \\frac{40 e^{4 x}}{49}$"
      ],
      "text/plain": [
       "Eq(y(x), (C1 + C2*x)*exp(-3*x) + 40*exp(4*x)/49)"
      ]
     },
     "execution_count": 31,
     "metadata": {},
     "output_type": "execute_result"
    }
   ],
   "source": [
    "smp.dsolve(f)"
   ]
  },
  {
   "cell_type": "code",
   "execution_count": 33,
   "id": "b1653d58",
   "metadata": {},
   "outputs": [
    {
     "data": {
      "text/latex": [
       "$\\displaystyle y{\\left(x \\right)} + 2 \\frac{d}{d x} y{\\left(x \\right)} + \\frac{d^{2}}{d x^{2}} y{\\left(x \\right)} = 2 e^{- x}$"
      ],
      "text/plain": [
       "Eq(y(x) + 2*Derivative(y(x), x) + Derivative(y(x), (x, 2)), 2*exp(-x))"
      ]
     },
     "execution_count": 33,
     "metadata": {},
     "output_type": "execute_result"
    }
   ],
   "source": [
    "f = smp.Eq(y.diff(x,2)+2*y.diff(x)+y,2*smp.exp(-x))\n",
    "f"
   ]
  },
  {
   "cell_type": "code",
   "execution_count": 34,
   "id": "a51a1a9a",
   "metadata": {},
   "outputs": [
    {
     "data": {
      "text/latex": [
       "$\\displaystyle y{\\left(x \\right)} = \\left(C_{1} + x \\left(C_{2} + x\\right)\\right) e^{- x}$"
      ],
      "text/plain": [
       "Eq(y(x), (C1 + x*(C2 + x))*exp(-x))"
      ]
     },
     "execution_count": 34,
     "metadata": {},
     "output_type": "execute_result"
    }
   ],
   "source": [
    "smp.dsolve(f)"
   ]
  },
  {
   "cell_type": "code",
   "execution_count": 37,
   "id": "663c3b3b",
   "metadata": {},
   "outputs": [
    {
     "data": {
      "text/latex": [
       "$\\displaystyle y{\\left(x \\right)} + 2 \\frac{d}{d x} y{\\left(x \\right)} + \\frac{d^{2}}{d x^{2}} y{\\left(x \\right)} = 2 e^{- x}$"
      ],
      "text/plain": [
       "Eq(y(x) + 2*Derivative(y(x), x) + Derivative(y(x), (x, 2)), 2*exp(-x))"
      ]
     },
     "execution_count": 37,
     "metadata": {},
     "output_type": "execute_result"
    }
   ],
   "source": [
    "f = smp.Eq(y.diff(x,2)+2*y.diff(x)+y,2*smp.exp(-x))\n",
    "f"
   ]
  },
  {
   "cell_type": "code",
   "execution_count": 39,
   "id": "85f51427",
   "metadata": {},
   "outputs": [
    {
     "data": {
      "text/latex": [
       "$\\displaystyle y{\\left(x \\right)} = \\left(C_{1} + x \\left(C_{2} + x\\right)\\right) e^{- x}$"
      ],
      "text/plain": [
       "Eq(y(x), (C1 + x*(C2 + x))*exp(-x))"
      ]
     },
     "execution_count": 39,
     "metadata": {},
     "output_type": "execute_result"
    }
   ],
   "source": [
    "smp.dsolve(f)"
   ]
  },
  {
   "cell_type": "code",
   "execution_count": 41,
   "id": "ebe95b25",
   "metadata": {},
   "outputs": [
    {
     "data": {
      "text/latex": [
       "$\\displaystyle y{\\left(x \\right)} + 2 \\frac{d}{d x} y{\\left(x \\right)} + \\frac{d^{2}}{d x^{2}} y{\\left(x \\right)} = 100 \\cos{\\left(4 x \\right)}$"
      ],
      "text/plain": [
       "Eq(y(x) + 2*Derivative(y(x), x) + Derivative(y(x), (x, 2)), 100*cos(4*x))"
      ]
     },
     "execution_count": 41,
     "metadata": {},
     "output_type": "execute_result"
    }
   ],
   "source": [
    "f = smp.Eq(y.diff(x,2)+2*y.diff(x)+y,100*smp.cos(4*x))\n",
    "f"
   ]
  },
  {
   "cell_type": "code",
   "execution_count": 43,
   "id": "6f58c268",
   "metadata": {},
   "outputs": [
    {
     "data": {
      "text/latex": [
       "$\\displaystyle y{\\left(x \\right)} = \\left(C_{1} + C_{2} x\\right) e^{- x} + \\frac{800 \\sin{\\left(4 x \\right)}}{289} - \\frac{1500 \\cos{\\left(4 x \\right)}}{289}$"
      ],
      "text/plain": [
       "Eq(y(x), (C1 + C2*x)*exp(-x) + 800*sin(4*x)/289 - 1500*cos(4*x)/289)"
      ]
     },
     "execution_count": 43,
     "metadata": {},
     "output_type": "execute_result"
    }
   ],
   "source": [
    "smp.dsolve(f)"
   ]
  },
  {
   "cell_type": "code",
   "execution_count": 45,
   "id": "c44333b5",
   "metadata": {},
   "outputs": [
    {
     "data": {
      "text/latex": [
       "$\\displaystyle 12 y{\\left(x \\right)} + 4 \\frac{d}{d x} y{\\left(x \\right)} + \\frac{d^{2}}{d x^{2}} y{\\left(x \\right)} = 80 \\sin{\\left(2 x \\right)}$"
      ],
      "text/plain": [
       "Eq(12*y(x) + 4*Derivative(y(x), x) + Derivative(y(x), (x, 2)), 80*sin(2*x))"
      ]
     },
     "execution_count": 45,
     "metadata": {},
     "output_type": "execute_result"
    }
   ],
   "source": [
    "f = smp.Eq(y.diff(x,2)+4*y.diff(x)+12*y,80*smp.sin(2*x))\n",
    "f"
   ]
  },
  {
   "cell_type": "code",
   "execution_count": 46,
   "id": "4925f6e2",
   "metadata": {},
   "outputs": [
    {
     "data": {
      "text/latex": [
       "$\\displaystyle y{\\left(x \\right)} = \\left(C_{1} \\sin{\\left(2 \\sqrt{2} x \\right)} + C_{2} \\cos{\\left(2 \\sqrt{2} x \\right)}\\right) e^{- 2 x} + 5 \\sin{\\left(2 x \\right)} - 5 \\cos{\\left(2 x \\right)}$"
      ],
      "text/plain": [
       "Eq(y(x), (C1*sin(2*sqrt(2)*x) + C2*cos(2*sqrt(2)*x))*exp(-2*x) + 5*sin(2*x) - 5*cos(2*x))"
      ]
     },
     "execution_count": 46,
     "metadata": {},
     "output_type": "execute_result"
    }
   ],
   "source": [
    "smp.dsolve(f)"
   ]
  },
  {
   "cell_type": "code",
   "execution_count": 48,
   "id": "31c27f51",
   "metadata": {},
   "outputs": [
    {
     "data": {
      "text/latex": [
       "$\\displaystyle 25 y{\\left(x \\right)} + 8 \\frac{d}{d x} y{\\left(x \\right)} + \\frac{d^{2}}{d x^{2}} y{\\left(x \\right)} = 120 \\sin{\\left(5 x \\right)}$"
      ],
      "text/plain": [
       "Eq(25*y(x) + 8*Derivative(y(x), x) + Derivative(y(x), (x, 2)), 120*sin(5*x))"
      ]
     },
     "execution_count": 48,
     "metadata": {},
     "output_type": "execute_result"
    }
   ],
   "source": [
    "f = smp.Eq(y.diff(x,2)+8*y.diff(x)+25*y,120*smp.sin(5*x))\n",
    "f"
   ]
  },
  {
   "cell_type": "code",
   "execution_count": 49,
   "id": "dfc1cb41",
   "metadata": {},
   "outputs": [
    {
     "data": {
      "text/latex": [
       "$\\displaystyle y{\\left(x \\right)} = \\left(C_{1} \\sin{\\left(3 x \\right)} + C_{2} \\cos{\\left(3 x \\right)}\\right) e^{- 4 x} - 3 \\cos{\\left(5 x \\right)}$"
      ],
      "text/plain": [
       "Eq(y(x), (C1*sin(3*x) + C2*cos(3*x))*exp(-4*x) - 3*cos(5*x))"
      ]
     },
     "execution_count": 49,
     "metadata": {},
     "output_type": "execute_result"
    }
   ],
   "source": [
    "smp.dsolve(f)"
   ]
  },
  {
   "cell_type": "code",
   "execution_count": 51,
   "id": "884ab866",
   "metadata": {},
   "outputs": [
    {
     "data": {
      "text/latex": [
       "$\\displaystyle 9 y{\\left(x \\right)} + \\frac{d^{2}}{d x^{2}} y{\\left(x \\right)} = 30 \\sin{\\left(3 x \\right)}$"
      ],
      "text/plain": [
       "Eq(9*y(x) + Derivative(y(x), (x, 2)), 30*sin(3*x))"
      ]
     },
     "execution_count": 51,
     "metadata": {},
     "output_type": "execute_result"
    }
   ],
   "source": [
    "f = smp.Eq(y.diff(x,2)+9*y,30*smp.sin(3*x))\n",
    "f"
   ]
  },
  {
   "cell_type": "code",
   "execution_count": 53,
   "id": "94c86725",
   "metadata": {},
   "outputs": [
    {
     "data": {
      "text/latex": [
       "$\\displaystyle y{\\left(x \\right)} = C_{2} \\sin{\\left(3 x \\right)} + \\left(C_{1} - 5 x\\right) \\cos{\\left(3 x \\right)}$"
      ],
      "text/plain": [
       "Eq(y(x), C2*sin(3*x) + (C1 - 5*x)*cos(3*x))"
      ]
     },
     "execution_count": 53,
     "metadata": {},
     "output_type": "execute_result"
    }
   ],
   "source": [
    "smp.dsolve(f)"
   ]
  },
  {
   "cell_type": "code",
   "execution_count": 58,
   "id": "002902be",
   "metadata": {},
   "outputs": [
    {
     "data": {
      "text/latex": [
       "$\\displaystyle 17 y{\\left(x \\right)} + 2 \\frac{d}{d x} y{\\left(x \\right)} + \\frac{d^{2}}{d x^{2}} y{\\left(x \\right)} = 60 e^{- 4 x} \\sin{\\left(5 x \\right)}$"
      ],
      "text/plain": [
       "Eq(17*y(x) + 2*Derivative(y(x), x) + Derivative(y(x), (x, 2)), 60*exp(-4*x)*sin(5*x))"
      ]
     },
     "execution_count": 58,
     "metadata": {},
     "output_type": "execute_result"
    }
   ],
   "source": [
    "f = smp.Eq(y.diff(x,2)+2*y.diff(x)+17*y,60*smp.exp(-4*x)*smp.sin(5*x))\n",
    "f"
   ]
  },
  {
   "cell_type": "code",
   "execution_count": 60,
   "id": "5edaa7f1",
   "metadata": {},
   "outputs": [
    {
     "data": {
      "text/latex": [
       "$\\displaystyle y{\\left(x \\right)} = \\left(C_{1} \\sin{\\left(4 x \\right)} + C_{2} \\cos{\\left(4 x \\right)} + 2 e^{- 3 x} \\cos{\\left(5 x \\right)}\\right) e^{- x}$"
      ],
      "text/plain": [
       "Eq(y(x), (C1*sin(4*x) + C2*cos(4*x) + 2*exp(-3*x)*cos(5*x))*exp(-x))"
      ]
     },
     "execution_count": 60,
     "metadata": {},
     "output_type": "execute_result"
    }
   ],
   "source": [
    "smp.dsolve(f)"
   ]
  },
  {
   "cell_type": "code",
   "execution_count": 64,
   "id": "189dcb13",
   "metadata": {},
   "outputs": [
    {
     "data": {
      "text/latex": [
       "$\\displaystyle 16 y{\\left(x \\right)} + \\frac{d^{2}}{d x^{2}} y{\\left(x \\right)} = 16 \\cos{\\left(4 x \\right)}$"
      ],
      "text/plain": [
       "Eq(16*y(x) + Derivative(y(x), (x, 2)), 16*cos(4*x))"
      ]
     },
     "execution_count": 64,
     "metadata": {},
     "output_type": "execute_result"
    }
   ],
   "source": [
    "f = smp.Eq(y.diff(x,2)+16*y,16*smp.cos(4*x))\n",
    "f"
   ]
  },
  {
   "cell_type": "code",
   "execution_count": 65,
   "id": "685349b8",
   "metadata": {},
   "outputs": [
    {
     "data": {
      "text/latex": [
       "$\\displaystyle y{\\left(x \\right)} = C_{2} \\cos{\\left(4 x \\right)} + \\left(C_{1} + 2 x\\right) \\sin{\\left(4 x \\right)}$"
      ],
      "text/plain": [
       "Eq(y(x), C2*cos(4*x) + (C1 + 2*x)*sin(4*x))"
      ]
     },
     "execution_count": 65,
     "metadata": {},
     "output_type": "execute_result"
    }
   ],
   "source": [
    "smp.dsolve(f)"
   ]
  }
 ],
 "metadata": {
  "kernelspec": {
   "display_name": "venv",
   "language": "python",
   "name": "python3"
  },
  "language_info": {
   "codemirror_mode": {
    "name": "ipython",
    "version": 3
   },
   "file_extension": ".py",
   "mimetype": "text/x-python",
   "name": "python",
   "nbconvert_exporter": "python",
   "pygments_lexer": "ipython3",
   "version": "3.13.3"
  }
 },
 "nbformat": 4,
 "nbformat_minor": 5
}
