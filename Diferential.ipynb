{
 "cells": [
  {
   "cell_type": "markdown",
   "id": "83276614",
   "metadata": {},
   "source": [
    "# Ordinary Diferential Equation"
   ]
  },
  {
   "cell_type": "code",
   "execution_count": 2,
   "id": "e6bb7849",
   "metadata": {},
   "outputs": [],
   "source": [
    "import sympy as smp"
   ]
  },
  {
   "cell_type": "markdown",
   "id": "7922dbf6",
   "metadata": {},
   "source": [
    "$y'' + \\omega^2 y = 0$"
   ]
  },
  {
   "cell_type": "code",
   "execution_count": 74,
   "id": "8a77313a",
   "metadata": {},
   "outputs": [],
   "source": [
    "# mendefinisikan y sebagai fungsi\n",
    "y = smp.Function('y')(x)"
   ]
  },
  {
   "cell_type": "code",
   "execution_count": 55,
   "id": "3e1e7372",
   "metadata": {},
   "outputs": [
    {
     "data": {
      "text/latex": [
       "$\\displaystyle y{\\left(x \\right)} + \\frac{d}{d x} y{\\left(x \\right)} + \\frac{d^{2}}{d x^{2}} y{\\left(x \\right)} = 0$"
      ],
      "text/plain": [
       "Eq(y(x) + Derivative(y(x), x) + Derivative(y(x), (x, 2)), 0)"
      ]
     },
     "execution_count": 55,
     "metadata": {},
     "output_type": "execute_result"
    }
   ],
   "source": [
    "# dalam persamaan diferential itu y ada sebuah function yang bergantung terhadap x \n",
    "diff_eq = smp.Eq(y.diff(x,x) +y.diff(x)+y,0)\n",
    "diff_eq"
   ]
  },
  {
   "cell_type": "code",
   "execution_count": 64,
   "id": "3d4f4b93",
   "metadata": {},
   "outputs": [
    {
     "data": {
      "text/latex": [
       "$\\displaystyle 4 y{\\left(x \\right)} + 5 \\frac{d}{d x} y{\\left(x \\right)} + \\frac{d^{2}}{d x^{2}} y{\\left(x \\right)} = 0$"
      ],
      "text/plain": [
       "Eq(4*y(x) + 5*Derivative(y(x), x) + Derivative(y(x), (x, 2)), 0)"
      ]
     },
     "execution_count": 64,
     "metadata": {},
     "output_type": "execute_result"
    }
   ],
   "source": [
    "diff_eq = smp.Eq(y.diff(x,x)+5*y.diff(x) + 4*y,0)\n",
    "diff_eq"
   ]
  },
  {
   "cell_type": "code",
   "execution_count": 68,
   "id": "f07b8058",
   "metadata": {},
   "outputs": [
    {
     "data": {
      "text/latex": [
       "$\\displaystyle y{\\left(x \\right)} = \\left(C_{1} + C_{2} e^{- 3 x}\\right) e^{- x}$"
      ],
      "text/plain": [
       "Eq(y(x), (C1 + C2*exp(-3*x))*exp(-x))"
      ]
     },
     "execution_count": 68,
     "metadata": {},
     "output_type": "execute_result"
    }
   ],
   "source": [
    "sol = smp.dsolve(diff_eq)\n",
    "sol"
   ]
  },
  {
   "cell_type": "code",
   "execution_count": 78,
   "id": "d61543d9",
   "metadata": {},
   "outputs": [
    {
     "data": {
      "text/latex": [
       "$\\displaystyle y{\\left(x \\right)} = \\left(C_{1} + C_{2} x\\right) e^{3 x}$"
      ],
      "text/plain": [
       "Eq(y(x), (C1 + C2*x)*exp(3*x))"
      ]
     },
     "execution_count": 78,
     "metadata": {},
     "output_type": "execute_result"
    }
   ],
   "source": [
    "diff_eq = smp.Eq(y.diff(x,x) - 6*y.diff(x) + 9*y,0)\n",
    "smp.dsolve(diff_eq)"
   ]
  },
  {
   "cell_type": "code",
   "execution_count": 83,
   "id": "307741b5",
   "metadata": {},
   "outputs": [],
   "source": [
    "t = smp.symbols('t')\n",
    "y = smp.Function('y')(t)"
   ]
  },
  {
   "cell_type": "code",
   "execution_count": 101,
   "id": "a17420be",
   "metadata": {},
   "outputs": [
    {
     "data": {
      "text/latex": [
       "$\\displaystyle k y{\\left(t \\right)} + m \\frac{d^{2}}{d t^{2}} y{\\left(t \\right)} = 0$"
      ],
      "text/plain": [
       "Eq(k*y(t) + m*Derivative(y(t), (t, 2)), 0)"
      ]
     },
     "execution_count": 101,
     "metadata": {},
     "output_type": "execute_result"
    }
   ],
   "source": [
    "m, k = smp.symbols('m k',positive=True)\n",
    "diff_eq = smp.Eq(m*y.diff(t,2) + k*y,0)\n",
    "diff_eq"
   ]
  },
  {
   "cell_type": "code",
   "execution_count": 106,
   "id": "05f9f71e",
   "metadata": {},
   "outputs": [
    {
     "data": {
      "text/latex": [
       "$\\displaystyle y{\\left(t \\right)} = C_{1} \\sin{\\left(\\frac{\\sqrt{k} t}{\\sqrt{m}} \\right)} + C_{2} \\cos{\\left(\\frac{\\sqrt{k} t}{\\sqrt{m}} \\right)}$"
      ],
      "text/plain": [
       "Eq(y(t), C1*sin(sqrt(k)*t/sqrt(m)) + C2*cos(sqrt(k)*t/sqrt(m)))"
      ]
     },
     "execution_count": 106,
     "metadata": {},
     "output_type": "execute_result"
    }
   ],
   "source": [
    "eq_1 = smp.dsolve(diff_eq)\n",
    "eq_1"
   ]
  },
  {
   "cell_type": "markdown",
   "id": "e02ff7db",
   "metadata": {},
   "source": [
    "Suppose the mass is held at rest at a distance 10 cm below equilibrium and\n",
    "then suddenly let go. If we agree to call y positive when m is above the equilibrium\n",
    "position, then at $t = 0$, we have $y = −10$, and $dy/dt = 0$."
   ]
  },
  {
   "cell_type": "code",
   "execution_count": 4,
   "id": "8fd87f07",
   "metadata": {},
   "outputs": [],
   "source": [
    "t = smp.symbols('t')\n",
    "omega = smp.symbols('omega',positive=True)\n",
    "y = smp.Function('y')(t)"
   ]
  },
  {
   "cell_type": "code",
   "execution_count": 19,
   "id": "bf151824",
   "metadata": {},
   "outputs": [
    {
     "data": {
      "text/latex": [
       "$\\displaystyle \\omega^{2} y{\\left(t \\right)} + \\frac{d^{2}}{d t^{2}} y{\\left(t \\right)} = 0$"
      ],
      "text/plain": [
       "Eq(omega**2*y(t) + Derivative(y(t), (t, 2)), 0)"
      ]
     },
     "execution_count": 19,
     "metadata": {},
     "output_type": "execute_result"
    }
   ],
   "source": [
    "eq = smp.Eq(y.diff(t,2) + omega**2 * y,0)\n",
    "ics = {y.subs(t,0):10,y.diff(t).subs(t,0):0}\n",
    "eq"
   ]
  },
  {
   "cell_type": "code",
   "execution_count": 121,
   "id": "51aa5ca3",
   "metadata": {},
   "outputs": [
    {
     "data": {
      "text/latex": [
       "$\\displaystyle y{\\left(t \\right)} = 10 \\cos{\\left(\\omega t \\right)}$"
      ],
      "text/plain": [
       "Eq(y(t), 10*cos(omega*t))"
      ]
     },
     "execution_count": 121,
     "metadata": {},
     "output_type": "execute_result"
    }
   ],
   "source": [
    "smp.dsolve(eq,ics=ics)"
   ]
  },
  {
   "cell_type": "markdown",
   "id": "a41f46c4",
   "metadata": {},
   "source": [
    "A fairly reasonable assumption for this problem and many other similar ones\n",
    "is that there is a retarding force proportional to the velocity; let us call this force\n",
    "$−l(dy/dt) (l > 0)$."
   ]
  },
  {
   "cell_type": "code",
   "execution_count": 126,
   "id": "f50d3d18",
   "metadata": {},
   "outputs": [],
   "source": [
    "t = smp.symbols('t')\n",
    "omega = smp.symbols('omega',positive=True)\n",
    "b = smp.symbols('b')\n",
    "y = smp.Function('y')(t)"
   ]
  },
  {
   "cell_type": "code",
   "execution_count": 130,
   "id": "249e63e6",
   "metadata": {},
   "outputs": [
    {
     "data": {
      "text/latex": [
       "$\\displaystyle 2 b \\frac{d}{d t} y{\\left(t \\right)} + \\omega^{2} y{\\left(t \\right)} + \\frac{d^{2}}{d t^{2}} y{\\left(t \\right)} = 0$"
      ],
      "text/plain": [
       "Eq(2*b*Derivative(y(t), t) + omega**2*y(t) + Derivative(y(t), (t, 2)), 0)"
      ]
     },
     "execution_count": 130,
     "metadata": {},
     "output_type": "execute_result"
    }
   ],
   "source": [
    "eq = smp.Eq(y.diff(t,2) + 2*b*y.diff(t) + omega**2 * y,0)\n",
    "eq"
   ]
  },
  {
   "cell_type": "code",
   "execution_count": 133,
   "id": "c652071f",
   "metadata": {},
   "outputs": [
    {
     "data": {
      "text/latex": [
       "$\\displaystyle y{\\left(t \\right)} = C_{1} e^{t \\left(- b + \\sqrt{b^{2} - \\omega^{2}}\\right)} + C_{2} e^{- t \\left(b + \\sqrt{b^{2} - \\omega^{2}}\\right)}$"
      ],
      "text/plain": [
       "Eq(y(t), C1*exp(t*(-b + sqrt(b**2 - omega**2))) + C2*exp(-t*(b + sqrt(b**2 - omega**2))))"
      ]
     },
     "execution_count": 133,
     "metadata": {},
     "output_type": "execute_result"
    }
   ],
   "source": [
    "smp.dsolve(eq)"
   ]
  },
  {
   "cell_type": "markdown",
   "id": "89b262f0",
   "metadata": {},
   "source": [
    "$y'' + y' - 2y = 0 $"
   ]
  },
  {
   "cell_type": "code",
   "execution_count": 140,
   "id": "8a4fe842",
   "metadata": {},
   "outputs": [],
   "source": [
    "x = smp.symbols('x')\n",
    "y = smp.Function('y')(x)"
   ]
  },
  {
   "cell_type": "code",
   "execution_count": 146,
   "id": "88f42a7a",
   "metadata": {},
   "outputs": [
    {
     "data": {
      "text/latex": [
       "$\\displaystyle y{\\left(x \\right)} = \\left(C_{1} \\sin{\\left(\\frac{\\sqrt{7} x}{2} \\right)} + C_{2} \\cos{\\left(\\frac{\\sqrt{7} x}{2} \\right)}\\right) e^{- \\frac{x}{2}}$"
      ],
      "text/plain": [
       "Eq(y(x), (C1*sin(sqrt(7)*x/2) + C2*cos(sqrt(7)*x/2))*exp(-x/2))"
      ]
     },
     "execution_count": 146,
     "metadata": {},
     "output_type": "execute_result"
    }
   ],
   "source": [
    "eq = smp.Eq(y.diff(x,2) + y.diff(x)+2*y,0)\n",
    "smp.dsolve(eq)"
   ]
  },
  {
   "cell_type": "markdown",
   "id": "b541368c",
   "metadata": {},
   "source": [
    "$y'' + 9y = 0$"
   ]
  },
  {
   "cell_type": "code",
   "execution_count": 152,
   "id": "eddec1ce",
   "metadata": {},
   "outputs": [],
   "source": [
    "x = smp.symbols('x')\n",
    "y = smp.Function('y')(x)"
   ]
  },
  {
   "cell_type": "code",
   "execution_count": 153,
   "id": "3ff37c34",
   "metadata": {},
   "outputs": [
    {
     "data": {
      "text/latex": [
       "$\\displaystyle y{\\left(x \\right)} = C_{1} \\sin{\\left(3 x \\right)} + C_{2} \\cos{\\left(3 x \\right)}$"
      ],
      "text/plain": [
       "Eq(y(x), C1*sin(3*x) + C2*cos(3*x))"
      ]
     },
     "execution_count": 153,
     "metadata": {},
     "output_type": "execute_result"
    }
   ],
   "source": [
    "eq = smp.Eq(y.diff(x,2) + 9*y,0)\n",
    "smp.dsolve(eq)"
   ]
  },
  {
   "cell_type": "markdown",
   "id": "c7530032",
   "metadata": {},
   "source": [
    "$(D^2 - 2D + 1)y = 0$"
   ]
  },
  {
   "cell_type": "code",
   "execution_count": 159,
   "id": "9a8b0e2b",
   "metadata": {},
   "outputs": [],
   "source": [
    "x = smp.symbols('x')\n",
    "y = smp.Function('y')(x)"
   ]
  },
  {
   "cell_type": "code",
   "execution_count": 158,
   "id": "401c10e2",
   "metadata": {},
   "outputs": [
    {
     "data": {
      "text/latex": [
       "$\\displaystyle y{\\left(x \\right)} = \\left(C_{1} + C_{2} x\\right) e^{x}$"
      ],
      "text/plain": [
       "Eq(y(x), (C1 + C2*x)*exp(x))"
      ]
     },
     "execution_count": 158,
     "metadata": {},
     "output_type": "execute_result"
    }
   ],
   "source": [
    "eq = smp.Eq(y.diff(x,2) - 2*y.diff(x) + y,0)\n",
    "smp.dsolve(eq)"
   ]
  },
  {
   "cell_type": "markdown",
   "id": "ccdf7f47",
   "metadata": {},
   "source": [
    "$(D − 1)(D + 3)(D + 5)y = 0$"
   ]
  },
  {
   "cell_type": "code",
   "execution_count": 161,
   "id": "d291a6cf",
   "metadata": {},
   "outputs": [],
   "source": [
    "x = smp.symbols('x')\n",
    "y = smp.Function('y')(x)"
   ]
  },
  {
   "cell_type": "code",
   "execution_count": 165,
   "id": "519c6ac4",
   "metadata": {},
   "outputs": [
    {
     "data": {
      "text/plain": [
       "[Eq(y(x), C1 + x), Eq(y(x), C1 - 3*x), Eq(y(x), C1 - 5*x)]"
      ]
     },
     "execution_count": 165,
     "metadata": {},
     "output_type": "execute_result"
    }
   ],
   "source": [
    "eq = smp.Eq((y.diff(x)-1)*(y.diff(x)+3)*(y.diff(x) + 5),0)\n",
    "smp.dsolve(eq)"
   ]
  },
  {
   "cell_type": "markdown",
   "id": "fd8100b1",
   "metadata": {},
   "source": [
    "A simple pendulum consists of a point mass m suspended by a\n",
    "(weightless) cord or rod of length $l$, as shown, and swinging in\n",
    "a vertical plane under the action of gravity. Show that for small\n",
    "oscillations (small $θ$), both $θ$ and $x$ are sinusoidal functions of time,\n",
    "that is, the motion is simple harmonic. Hint: Write the differential\n",
    "equation $F = ma$ for the particle $m$. Use the approximation\n",
    "$sin θ = θ$ for small θ, and show that $θ = A sin ωt$ is a solution of\n",
    "your equation. What are $A$ and $ω$?"
   ]
  },
  {
   "cell_type": "code",
   "execution_count": 211,
   "id": "1dd7a8d0",
   "metadata": {},
   "outputs": [],
   "source": [
    "t = smp.symbols('t')\n",
    "theta = smp.Function('theta')(t)\n",
    "a,g,l = smp.symbols('a g l')"
   ]
  },
  {
   "cell_type": "code",
   "execution_count": 212,
   "id": "9d445e48",
   "metadata": {},
   "outputs": [
    {
     "data": {
      "text/latex": [
       "$\\displaystyle l \\frac{d^{2}}{d t^{2}} \\theta{\\left(t \\right)}$"
      ],
      "text/plain": [
       "l*Derivative(theta(t), (t, 2))"
      ]
     },
     "execution_count": 212,
     "metadata": {},
     "output_type": "execute_result"
    }
   ],
   "source": [
    "s = l*theta\n",
    "v = l*theta.diff(t)\n",
    "a = l*theta.diff(t,2)\n",
    "a\n"
   ]
  },
  {
   "cell_type": "code",
   "execution_count": 215,
   "id": "703e161c",
   "metadata": {},
   "outputs": [
    {
     "data": {
      "text/latex": [
       "$\\displaystyle g \\theta{\\left(t \\right)} + l \\frac{d^{2}}{d t^{2}} \\theta{\\left(t \\right)} = 0$"
      ],
      "text/plain": [
       "Eq(g*theta(t) + l*Derivative(theta(t), (t, 2)), 0)"
      ]
     },
     "execution_count": 215,
     "metadata": {},
     "output_type": "execute_result"
    }
   ],
   "source": [
    "eq = smp.Eq(l*theta.diff(t,2) + g *theta,0)\n",
    "eq"
   ]
  },
  {
   "cell_type": "code",
   "execution_count": 221,
   "id": "e56df218",
   "metadata": {},
   "outputs": [
    {
     "data": {
      "text/latex": [
       "$\\displaystyle \\theta{\\left(t \\right)} = C_{1} e^{- t \\sqrt{- \\frac{g}{l}}} + C_{2} e^{t \\sqrt{- \\frac{g}{l}}}$"
      ],
      "text/plain": [
       "Eq(theta(t), C1*exp(-t*sqrt(-g/l)) + C2*exp(t*sqrt(-g/l)))"
      ]
     },
     "execution_count": 221,
     "metadata": {},
     "output_type": "execute_result"
    }
   ],
   "source": [
    "sol = smp.dsolve(eq)\n",
    "sol"
   ]
  },
  {
   "cell_type": "markdown",
   "id": "c59779da",
   "metadata": {},
   "source": [
    "The equation of pendulum have  $\\theta = C_1 \\cos(\\sqrt\\frac{-g}{l}) + C_2 \\sin(\\sqrt\\frac{-g}{l})$"
   ]
  },
  {
   "cell_type": "markdown",
   "id": "51c11b61",
   "metadata": {},
   "source": [
    "Find the equation of motion of a simple pendulum,\n",
    "that is, the differential equation for $θ$ as a function of $t$. Show that, for small $θ$, this\n",
    "is approximately a simple harmonic motion equation, and find $θ$ if $θ = θ_0$, $dθ/dt = 0$\n",
    "when $t = 0$."
   ]
  },
  {
   "cell_type": "code",
   "execution_count": 40,
   "id": "2a884fa0",
   "metadata": {},
   "outputs": [],
   "source": [
    "t = smp.symbols('t')\n",
    "theta = smp.Function('theta')(t)\n",
    "omega = smp.symbols('omega',positive=True,real=True)\n",
    "c_1,c_2 = smp.symbols('c_1 c_2')"
   ]
  },
  {
   "cell_type": "code",
   "execution_count": 41,
   "id": "0f61c6ec",
   "metadata": {},
   "outputs": [
    {
     "data": {
      "text/latex": [
       "$\\displaystyle \\omega^{2} \\theta{\\left(t \\right)} + \\frac{d^{2}}{d t^{2}} \\theta{\\left(t \\right)} = 0$"
      ],
      "text/plain": [
       "Eq(omega**2*theta(t) + Derivative(theta(t), (t, 2)), 0)"
      ]
     },
     "execution_count": 41,
     "metadata": {},
     "output_type": "execute_result"
    }
   ],
   "source": [
    "eq_teta = smp.Eq(theta.diff(t,2) + omega**2 * theta,0)\n",
    "eq_teta"
   ]
  },
  {
   "cell_type": "code",
   "execution_count": 42,
   "id": "f0f99663",
   "metadata": {},
   "outputs": [
    {
     "data": {
      "text/latex": [
       "$\\displaystyle \\theta{\\left(t \\right)} = \\theta_{0} \\cos{\\left(\\omega t \\right)}$"
      ],
      "text/plain": [
       "Eq(theta(t), theta0*cos(omega*t))"
      ]
     },
     "execution_count": 42,
     "metadata": {},
     "output_type": "execute_result"
    }
   ],
   "source": [
    "theta0 = smp.Symbol('theta0')\n",
    "smp.dsolve(eq_teta,ics={theta.subs(t,0):theta0,theta.diff(t).subs(t,0):0})\n"
   ]
  }
 ],
 "metadata": {
  "kernelspec": {
   "display_name": "venv",
   "language": "python",
   "name": "python3"
  },
  "language_info": {
   "codemirror_mode": {
    "name": "ipython",
    "version": 3
   },
   "file_extension": ".py",
   "mimetype": "text/x-python",
   "name": "python",
   "nbconvert_exporter": "python",
   "pygments_lexer": "ipython3",
   "version": "3.13.3"
  }
 },
 "nbformat": 4,
 "nbformat_minor": 5
}
