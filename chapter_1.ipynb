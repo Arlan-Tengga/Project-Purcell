{
 "cells": [
  {
   "cell_type": "markdown",
   "id": "e29054d2",
   "metadata": {},
   "source": [
    "# Derivative and integral"
   ]
  },
  {
   "cell_type": "code",
   "execution_count": 1,
   "id": "bc76477d",
   "metadata": {},
   "outputs": [],
   "source": [
    "import numpy as np\n",
    "import sympy as smp\n",
    "import scipy as sp\n",
    "import matplotlib.pyplot as plt"
   ]
  },
  {
   "cell_type": "markdown",
   "id": "6e539222",
   "metadata": {},
   "source": [
    "Graph $y=x^2+1$"
   ]
  },
  {
   "cell_type": "code",
   "execution_count": 2,
   "id": "4f8005f4",
   "metadata": {},
   "outputs": [
    {
     "data": {
      "image/png": "[encoded data removed]",
      "text/plain": [
       "<Figure size 400x400 with 1 Axes>"
      ]
     },
     "metadata": {},
     "output_type": "display_data"
    }
   ],
   "source": [
    "def f(x):\n",
    "    return x**2 + 1\n",
    "x = np.linspace(1,10,10)\n",
    "y = f(x)\n",
    "plt.figure(figsize=(4,4))\n",
    "plt.plot(x,y,'o')\n",
    "plt.show()"
   ]
  },
  {
   "cell_type": "markdown",
   "id": "716367ce",
   "metadata": {},
   "source": [
    "make Graph $1/x$"
   ]
  },
  {
   "cell_type": "code",
   "execution_count": 3,
   "id": "3d0d2261",
   "metadata": {},
   "outputs": [
    {
     "data": {
      "text/plain": [
       "[<matplotlib.lines.Line2D at 0x2b02b725090>]"
      ]
     },
     "execution_count": 3,
     "metadata": {},
     "output_type": "execute_result"
    },
    {
     "data": {
      "image/png": "[encoded data removed]",
      "text/plain": [
       "<Figure size 640x480 with 1 Axes>"
      ]
     },
     "metadata": {},
     "output_type": "display_data"
    }
   ],
   "source": [
    "def f(x):\n",
    "    return 1/x\n",
    "x = np.linspace(1,2,100)\n",
    "y = f(x)\n",
    "plt.plot(x,y)"
   ]
  },
  {
   "cell_type": "markdown",
   "id": "466f9b19",
   "metadata": {},
   "source": [
    "$x^2+x-2$"
   ]
  },
  {
   "cell_type": "code",
   "execution_count": 4,
   "id": "6cb2108d",
   "metadata": {},
   "outputs": [
    {
     "data": {
      "text/plain": [
       "[-2, 1]"
      ]
     },
     "execution_count": 4,
     "metadata": {},
     "output_type": "execute_result"
    }
   ],
   "source": [
    "x = smp.Symbol('x')\n",
    "y = x**2+x-2\n",
    "smp.solve(y)"
   ]
  },
  {
   "cell_type": "markdown",
   "id": "c1e9d957",
   "metadata": {},
   "source": [
    "Find the equation of the tangent line to $y = 1/(x-1)$ at $(0,-1)$."
   ]
  },
  {
   "cell_type": "markdown",
   "id": "3afc67c1",
   "metadata": {},
   "source": [
    "The Derivative"
   ]
  },
  {
   "cell_type": "markdown",
   "id": "9c253de3",
   "metadata": {},
   "source": [
    "## The Integral"
   ]
  },
  {
   "cell_type": "code",
   "execution_count": 5,
   "id": "bdba8b7c",
   "metadata": {},
   "outputs": [
    {
     "data": {
      "text/latex": [
       "$\\displaystyle \\left(j - 5\\right) \\left(j + 2\\right)$"
      ],
      "text/plain": [
       "(j - 5)*(j + 2)"
      ]
     },
     "execution_count": 5,
     "metadata": {},
     "output_type": "execute_result"
    }
   ],
   "source": [
    "j = smp.Symbol('j')\n",
    "f = (j+2)*(j-5)\n",
    "f"
   ]
  },
  {
   "cell_type": "markdown",
   "id": "5e9db5d7",
   "metadata": {},
   "source": [
    "Sum"
   ]
  },
  {
   "cell_type": "code",
   "execution_count": 6,
   "id": "d5390f4c",
   "metadata": {},
   "outputs": [
    {
     "data": {
      "text/latex": [
       "$\\displaystyle 15$"
      ],
      "text/plain": [
       "15"
      ]
     },
     "execution_count": 6,
     "metadata": {},
     "output_type": "execute_result"
    }
   ],
   "source": [
    "k = smp.symbols('k')\n",
    "smp.Sum((k-1),(k,1,6)).doit()"
   ]
  },
  {
   "cell_type": "code",
   "execution_count": 7,
   "id": "1b886c10",
   "metadata": {},
   "outputs": [
    {
     "data": {
      "text/latex": [
       "$\\displaystyle 55$"
      ],
      "text/plain": [
       "55"
      ]
     },
     "execution_count": 7,
     "metadata": {},
     "output_type": "execute_result"
    }
   ],
   "source": [
    "i = smp.symbols('i')\n",
    "smp.Sum(i**2,(i,1,5)).doit()"
   ]
  },
  {
   "cell_type": "code",
   "execution_count": 8,
   "id": "c440877e",
   "metadata": {},
   "outputs": [
    {
     "data": {
      "text/latex": [
       "$\\displaystyle \\frac{481}{280}$"
      ],
      "text/plain": [
       "481/280"
      ]
     },
     "execution_count": 8,
     "metadata": {},
     "output_type": "execute_result"
    }
   ],
   "source": [
    "smp.Sum(1/(k+1),(k,1,7)).doit()"
   ]
  },
  {
   "cell_type": "code",
   "execution_count": 9,
   "id": "ff80fe42",
   "metadata": {},
   "outputs": [
    {
     "data": {
      "text/latex": [
       "$\\displaystyle 271$"
      ],
      "text/plain": [
       "271"
      ]
     },
     "execution_count": 9,
     "metadata": {},
     "output_type": "execute_result"
    }
   ],
   "source": [
    "l = smp.Symbol('l')\n",
    "smp.Sum((l+1)**2,(l,3,8)).doit()"
   ]
  },
  {
   "cell_type": "code",
   "execution_count": 10,
   "id": "a0e010be",
   "metadata": {},
   "outputs": [
    {
     "data": {
      "text/latex": [
       "$\\displaystyle \\frac{85}{2}$"
      ],
      "text/plain": [
       "85/2"
      ]
     },
     "execution_count": 10,
     "metadata": {},
     "output_type": "execute_result"
    }
   ],
   "source": [
    "m = smp.Symbol('m')\n",
    "smp.Sum((-1)**m * 2**(m-2),(m,1,8)).doit()"
   ]
  },
  {
   "cell_type": "code",
   "execution_count": 11,
   "id": "3f53008a",
   "metadata": {},
   "outputs": [
    {
     "data": {
      "text/latex": [
       "$\\displaystyle 3$"
      ],
      "text/plain": [
       "3"
      ]
     },
     "execution_count": 11,
     "metadata": {},
     "output_type": "execute_result"
    }
   ],
   "source": [
    "n = smp.Symbol('n')\n",
    "smp.Sum(n*smp.cos(n*smp.pi),(n,1,6)).doit()"
   ]
  },
  {
   "cell_type": "code",
   "execution_count": 12,
   "id": "863d6e0b",
   "metadata": {},
   "outputs": [
    {
     "data": {
      "text/latex": [
       "$\\displaystyle 4$"
      ],
      "text/plain": [
       "4"
      ]
     },
     "execution_count": 12,
     "metadata": {},
     "output_type": "execute_result"
    }
   ],
   "source": [
    "smp.Sum((k*smp.sin(k*(smp.pi/2))),(k,-1,6)).doit()"
   ]
  },
  {
   "cell_type": "code",
   "execution_count": 13,
   "id": "e42828f2",
   "metadata": {},
   "outputs": [
    {
     "data": {
      "text/latex": [
       "$\\displaystyle \\frac{2 n^{3}}{3} - \\frac{n^{2}}{2} - \\frac{n}{6}$"
      ],
      "text/plain": [
       "2*n**3/3 - n**2/2 - n/6"
      ]
     },
     "execution_count": 13,
     "metadata": {},
     "output_type": "execute_result"
    }
   ],
   "source": [
    "smp.Sum(2*i**2 - 3*i + 1,(i,1,n)).doit()"
   ]
  },
  {
   "cell_type": "code",
   "execution_count": 14,
   "id": "ed621453",
   "metadata": {},
   "outputs": [
    {
     "data": {
      "text/latex": [
       "$\\displaystyle 14950$"
      ],
      "text/plain": [
       "14950"
      ]
     },
     "execution_count": 14,
     "metadata": {},
     "output_type": "execute_result"
    }
   ],
   "source": [
    "smp.Sum(3*i - 2,(i,1,100)).doit()"
   ]
  },
  {
   "cell_type": "code",
   "execution_count": 15,
   "id": "1cb75620",
   "metadata": {},
   "outputs": [
    {
     "data": {
      "text/latex": [
       "$\\displaystyle \\frac{4 n^{3}}{3} - 4 n^{2} + \\frac{11 n}{3}$"
      ],
      "text/plain": [
       "4*n**3/3 - 4*n**2 + 11*n/3"
      ]
     },
     "execution_count": 15,
     "metadata": {},
     "output_type": "execute_result"
    }
   ],
   "source": [
    "smp.Sum((2*i-3)**2,(i,1,n)).doit()"
   ]
  },
  {
   "cell_type": "code",
   "execution_count": 16,
   "id": "16f056b9",
   "metadata": {},
   "outputs": [
    {
     "data": {
      "text/latex": [
       "$\\displaystyle a \\left(\\begin{cases} n + 1 & \\text{for}\\: r = 1 \\\\\\frac{1 - r^{n + 1}}{1 - r} & \\text{otherwise} \\end{cases}\\right)$"
      ],
      "text/plain": [
       "a*Piecewise((n + 1, Eq(r, 1)), ((1 - r**(n + 1))/(1 - r), True))"
      ]
     },
     "execution_count": 16,
     "metadata": {},
     "output_type": "execute_result"
    }
   ],
   "source": [
    "a,r,k,d = smp.symbols('a r k d')\n",
    "smp.Sum((a*r**k),(k,0,n)).doit()"
   ]
  },
  {
   "cell_type": "code",
   "execution_count": 17,
   "id": "fb47e09d",
   "metadata": {},
   "outputs": [
    {
     "data": {
      "text/latex": [
       "$\\displaystyle a \\left(n + 1\\right) + d \\left(\\frac{n^{2}}{2} + \\frac{n}{2}\\right)$"
      ],
      "text/plain": [
       "a*(n + 1) + d*(n**2/2 + n/2)"
      ]
     },
     "execution_count": 17,
     "metadata": {},
     "output_type": "execute_result"
    }
   ],
   "source": [
    "smp.Sum((a+k*d),(k,0,n)).doit()"
   ]
  },
  {
   "cell_type": "code",
   "execution_count": 18,
   "id": "b6d9b906",
   "metadata": {},
   "outputs": [],
   "source": [
    "n = smp.Symbol('n',positive=True,integer=True)\n",
    "mean = smp.Sum(i,(i,1,n))\n"
   ]
  },
  {
   "cell_type": "code",
   "execution_count": 19,
   "id": "555f5ea1",
   "metadata": {},
   "outputs": [
    {
     "data": {
      "text/latex": [
       "$\\displaystyle 364$"
      ],
      "text/plain": [
       "364"
      ]
     },
     "execution_count": 19,
     "metadata": {},
     "output_type": "execute_result"
    }
   ],
   "source": [
    "smp.Sum(((n*(n+1)))/2,(n,0,12)).doit()"
   ]
  },
  {
   "cell_type": "markdown",
   "id": "576627dd",
   "metadata": {},
   "source": [
    "## Anti-Derivativ"
   ]
  },
  {
   "cell_type": "code",
   "execution_count": 20,
   "id": "58a0731c",
   "metadata": {},
   "outputs": [
    {
     "data": {
      "text/latex": [
       "$\\displaystyle \\frac{35}{2}$"
      ],
      "text/plain": [
       "35/2"
      ]
     },
     "execution_count": 20,
     "metadata": {},
     "output_type": "execute_result"
    }
   ],
   "source": [
    "smp.integrate((x+3),(x,-2,3))"
   ]
  },
  {
   "cell_type": "code",
   "execution_count": 21,
   "id": "15c02fdf",
   "metadata": {},
   "outputs": [
    {
     "data": {
      "text/latex": [
       "$\\displaystyle - \\frac{40}{3}$"
      ],
      "text/plain": [
       "-40/3"
      ]
     },
     "execution_count": 21,
     "metadata": {},
     "output_type": "execute_result"
    }
   ],
   "source": [
    "smp.integrate((2*x**2 - 8),(x,-1,3))"
   ]
  },
  {
   "cell_type": "code",
   "execution_count": 22,
   "id": "86db9721",
   "metadata": {},
   "outputs": [
    {
     "data": {
      "text/latex": [
       "$\\displaystyle 4$"
      ],
      "text/plain": [
       "4"
      ]
     },
     "execution_count": 22,
     "metadata": {},
     "output_type": "execute_result"
    }
   ],
   "source": [
    "smp.integrate((x+1),(x,0,2))"
   ]
  },
  {
   "cell_type": "code",
   "execution_count": 23,
   "id": "3d0a1dfb",
   "metadata": {},
   "outputs": [
    {
     "data": {
      "text/latex": [
       "$\\displaystyle \\frac{14}{3}$"
      ],
      "text/plain": [
       "14/3"
      ]
     },
     "execution_count": 23,
     "metadata": {},
     "output_type": "execute_result"
    }
   ],
   "source": [
    "smp.integrate((x**2 + 1),(x,0,2))"
   ]
  },
  {
   "cell_type": "code",
   "execution_count": 24,
   "id": "ebb9e0c4",
   "metadata": {},
   "outputs": [
    {
     "data": {
      "text/latex": [
       "$\\displaystyle -3 + 3 \\pi$"
      ],
      "text/plain": [
       "-3 + 3*pi"
      ]
     },
     "execution_count": 24,
     "metadata": {},
     "output_type": "execute_result"
    }
   ],
   "source": [
    "smp.integrate((2*x + smp.pi),(x,-2,1))"
   ]
  },
  {
   "cell_type": "code",
   "execution_count": 25,
   "id": "e98010ee",
   "metadata": {},
   "outputs": [
    {
     "data": {
      "text/latex": [
       "$\\displaystyle \\frac{2000}{3}$"
      ],
      "text/plain": [
       "2000/3"
      ]
     },
     "execution_count": 25,
     "metadata": {},
     "output_type": "execute_result"
    }
   ],
   "source": [
    "smp.integrate((x**2 + x),(x,-10,10))"
   ]
  },
  {
   "cell_type": "code",
   "execution_count": 26,
   "id": "1b5e943e",
   "metadata": {},
   "outputs": [
    {
     "name": "stdout",
     "output_type": "stream",
     "text": [
      "pi/4 dan 1/2\n"
     ]
    }
   ],
   "source": [
    "def f(i,j):\n",
    "    return smp.integrate(smp.sqrt(1-x**2),(x,i,j))\n",
    "\n",
    "def g(i,j):\n",
    "    return smp.integrate((x-1),(x,i,j))\n",
    "\n",
    "print(f\"{f(0,1)} dan {g(1,2)}\")"
   ]
  },
  {
   "cell_type": "code",
   "execution_count": 27,
   "id": "febeb779",
   "metadata": {},
   "outputs": [
    {
     "data": {
      "text/latex": [
       "$\\displaystyle \\frac{x \\sqrt{1 - x^{2}}}{2} + \\frac{\\operatorname{asin}{\\left(x \\right)}}{2}$"
      ],
      "text/plain": [
       "x*sqrt(1 - x**2)/2 + asin(x)/2"
      ]
     },
     "execution_count": 27,
     "metadata": {},
     "output_type": "execute_result"
    }
   ],
   "source": [
    "smp.integrate((smp.sqrt(1 - x**2)))"
   ]
  },
  {
   "cell_type": "code",
   "execution_count": 28,
   "id": "abff3727",
   "metadata": {},
   "outputs": [
    {
     "data": {
      "text/latex": [
       "$\\displaystyle - \\log{\\left(\\cos{\\left(1 \\right)} \\right)}$"
      ],
      "text/plain": [
       "-log(cos(1))"
      ]
     },
     "execution_count": 28,
     "metadata": {},
     "output_type": "execute_result"
    }
   ],
   "source": [
    "smp.integrate((smp.tan(x)),(x,0,1))"
   ]
  },
  {
   "cell_type": "code",
   "execution_count": 29,
   "id": "9a63e137",
   "metadata": {},
   "outputs": [
    {
     "data": {
      "text/latex": [
       "$\\displaystyle \\infty$"
      ],
      "text/plain": [
       "oo"
      ]
     },
     "execution_count": 29,
     "metadata": {},
     "output_type": "execute_result"
    }
   ],
   "source": [
    "smp.integrate((1/x),(x,0,3))"
   ]
  },
  {
   "cell_type": "code",
   "execution_count": 30,
   "id": "2df77f45",
   "metadata": {},
   "outputs": [
    {
     "data": {
      "text/latex": [
       "$\\displaystyle x^{2} - 1$"
      ],
      "text/plain": [
       "x**2 - 1"
      ]
     },
     "execution_count": 30,
     "metadata": {},
     "output_type": "execute_result"
    }
   ],
   "source": [
    "t = smp.Symbol('t')\n",
    "smp.integrate((2*t),(t,1,x))"
   ]
  },
  {
   "cell_type": "code",
   "execution_count": 31,
   "id": "3b1f7c48",
   "metadata": {},
   "outputs": [
    {
     "data": {
      "text/latex": [
       "$\\displaystyle \\frac{2 x^{\\frac{3}{2}}}{3} + \\frac{2 x^{3}}{3}$"
      ],
      "text/plain": [
       "2*x**(3/2)/3 + 2*x**3/3"
      ]
     },
     "execution_count": 31,
     "metadata": {},
     "output_type": "execute_result"
    }
   ],
   "source": [
    "smp.integrate((2*t**2 + smp.sqrt(t)),(t,0,x))"
   ]
  },
  {
   "cell_type": "code",
   "execution_count": 32,
   "id": "e8682819",
   "metadata": {},
   "outputs": [
    {
     "data": {
      "text/latex": [
       "$\\displaystyle \\log{\\left(\\cos{\\left(t \\right)} \\right)} + 3 \\sin^{2}{\\left(t \\right)} - \\frac{4 \\cos^{6}{\\left(t \\right)}}{3} + 3 \\cos^{4}{\\left(t \\right)}$"
      ],
      "text/plain": [
       "log(cos(t)) + 3*sin(t)**2 - 4*cos(t)**6/3 + 3*cos(t)**4"
      ]
     },
     "execution_count": 32,
     "metadata": {},
     "output_type": "execute_result"
    }
   ],
   "source": [
    "smp.integrate((smp.cos(2*t)**3)*smp.tan(t))"
   ]
  },
  {
   "cell_type": "code",
   "execution_count": 33,
   "id": "4cb02a75",
   "metadata": {},
   "outputs": [
    {
     "data": {
      "text/plain": [
       "[<matplotlib.lines.Line2D at 0x2b02b599950>]"
      ]
     },
     "execution_count": 33,
     "metadata": {},
     "output_type": "execute_result"
    },
    {
     "data": {
      "image/png": "[encoded data removed]",
      "text/plain": [
       "<Figure size 640x480 with 1 Axes>"
      ]
     },
     "metadata": {},
     "output_type": "display_data"
    }
   ],
   "source": [
    "def f(x):\n",
    "    return np.cos(2*x)**3 * np.tan(x)\n",
    "\n",
    "x = np.linspace(0,1,100)\n",
    "y = f(x)\n",
    "plt.Figure(figsize=(2,2))\n",
    "plt.plot(x,y)"
   ]
  },
  {
   "cell_type": "code",
   "execution_count": 34,
   "id": "e7f9ff60",
   "metadata": {},
   "outputs": [
    {
     "data": {
      "text/plain": [
       "[<matplotlib.lines.Line2D at 0x2b03548de50>]"
      ]
     },
     "execution_count": 34,
     "metadata": {},
     "output_type": "execute_result"
    },
    {
     "data": {
      "image/png": "[encoded data removed]",
      "text/plain": [
       "<Figure size 640x480 with 1 Axes>"
      ]
     },
     "metadata": {},
     "output_type": "display_data"
    }
   ],
   "source": [
    "f = smp.integrate((smp.cos(2*t)**3)*smp.tan(t))\n",
    "expr = smp.lambdify(t,f)\n",
    "x = np.linspace(0,1,100)\n",
    "y = expr(x)\n",
    "plt.Figure(figsize=(3,3))\n",
    "plt.plot(x,y)\n"
   ]
  },
  {
   "cell_type": "code",
   "execution_count": 35,
   "id": "63901601",
   "metadata": {},
   "outputs": [
    {
     "data": {
      "text/latex": [
       "$\\displaystyle \\int \\sqrt{2 z + \\sin{\\left(z \\right)}}\\, dz$"
      ],
      "text/plain": [
       "Integral(sqrt(2*z + sin(z)), z)"
      ]
     },
     "execution_count": 35,
     "metadata": {},
     "output_type": "execute_result"
    }
   ],
   "source": [
    "z = smp.Symbol('z')\n",
    "smp.integrate((smp.sqrt(2*z + smp.sin(z))),(z))"
   ]
  },
  {
   "cell_type": "code",
   "execution_count": 36,
   "id": "1b3a0310",
   "metadata": {},
   "outputs": [
    {
     "data": {
      "text/latex": [
       "$\\displaystyle \\frac{\\log{\\left(2 \\right)}}{2} + \\frac{\\pi}{4}$"
      ],
      "text/plain": [
       "log(2)/2 + pi/4"
      ]
     },
     "execution_count": 36,
     "metadata": {},
     "output_type": "execute_result"
    }
   ],
   "source": [
    "smp.integrate(((1+t)/(1+t**2)),(t,0,1))"
   ]
  },
  {
   "cell_type": "code",
   "execution_count": 37,
   "id": "3181eb66",
   "metadata": {},
   "outputs": [
    {
     "data": {
      "text/latex": [
       "$\\displaystyle \\frac{2 \\left(3 x + 2\\right)^{\\frac{3}{2}}}{9}$"
      ],
      "text/plain": [
       "2*(3*x + 2)**(3/2)/9"
      ]
     },
     "execution_count": 37,
     "metadata": {},
     "output_type": "execute_result"
    }
   ],
   "source": [
    "x = smp.symbols('x')\n",
    "smp.integrate((smp.sqrt(3*x + 2)))"
   ]
  },
  {
   "cell_type": "code",
   "execution_count": 38,
   "id": "76eddc17",
   "metadata": {},
   "outputs": [
    {
     "data": {
      "text/latex": [
       "$\\displaystyle - \\frac{\\cos{\\left(2 x - 4 \\right)}}{2}$"
      ],
      "text/plain": [
       "-cos(2*x - 4)/2"
      ]
     },
     "execution_count": 38,
     "metadata": {},
     "output_type": "execute_result"
    }
   ],
   "source": [
    "smp.integrate((smp.sin(2*x - 4)))"
   ]
  },
  {
   "cell_type": "code",
   "execution_count": 39,
   "id": "a26c248c",
   "metadata": {},
   "outputs": [
    {
     "data": {
      "text/latex": [
       "$\\displaystyle \\frac{x^{2} \\sqrt{x^{2} + 4}}{3} + \\frac{4 \\sqrt{x^{2} + 4}}{3}$"
      ],
      "text/plain": [
       "x**2*sqrt(x**2 + 4)/3 + 4*sqrt(x**2 + 4)/3"
      ]
     },
     "execution_count": 39,
     "metadata": {},
     "output_type": "execute_result"
    }
   ],
   "source": [
    "smp.integrate(x*smp.sqrt(x**2 + 4))"
   ]
  },
  {
   "cell_type": "code",
   "execution_count": 44,
   "id": "0e9bf47e",
   "metadata": {},
   "outputs": [
    {
     "data": {
      "text/latex": [
       "$\\displaystyle 5 x^{2} \\left(k + 1\\right) \\left(x + 4\\right)^{2}$"
      ],
      "text/plain": [
       "5*x**2*(k + 1)*(x + 4)**2"
      ]
     },
     "execution_count": 44,
     "metadata": {},
     "output_type": "execute_result"
    }
   ],
   "source": [
    "smp.Sum((5*x**2 * (x+4)**2),(i,0,k)).doit()"
   ]
  },
  {
   "cell_type": "code",
   "execution_count": 55,
   "id": "ff5ef8d5",
   "metadata": {},
   "outputs": [],
   "source": [
    "s = smp.symbols('s')\n",
    "g = smp.integrate((s/smp.sqrt(1+s**2)),(s,0,x))"
   ]
  },
  {
   "cell_type": "code",
   "execution_count": null,
   "id": "46047cd5",
   "metadata": {},
   "outputs": [
    {
     "data": {
      "text/plain": [
       "[<matplotlib.lines.Line2D at 0x2b03555f4d0>]"
      ]
     },
     "execution_count": 75,
     "metadata": {},
     "output_type": "execute_result"
    },
    {
     "data": {
      "image/png": "[encoded data removed]",
      "text/plain": [
       "<Figure size 640x480 with 1 Axes>"
      ]
     },
     "metadata": {},
     "output_type": "display_data"
    }
   ],
   "source": [
    "x = smp.Symbol('x')\n",
    "expr = x/smp.sqrt(1+x**2)\n",
    "expr_f = smp.integrate((expr),(x))\n",
    "f = smp.lambdify(x,expr)\n",
    "f_1 = smp.lambdify(x,expr_f)\n",
    "X = np.linspace(0,1,100)\n",
    "y = f(X)\n",
    "y_1 = f_1(X)\n",
    "plt.plot(X,y)\n",
    "plt.plot(X,y_1)\n"
   ]
  },
  {
   "cell_type": "code",
   "execution_count": null,
   "id": "ad47e7b2",
   "metadata": {},
   "outputs": [
    {
     "data": {
      "text/plain": [
       "[<matplotlib.lines.Line2D at 0x2b0362e2fd0>]"
      ]
     },
     "execution_count": 78,
     "metadata": {},
     "output_type": "execute_result"
    },
    {
     "data": {
      "image/png": "[encoded data removed]",
      "text/plain": [
       "<Figure size 640x480 with 1 Axes>"
      ]
     },
     "metadata": {},
     "output_type": "display_data"
    }
   ],
   "source": [
    "def f(x):\n",
    "    return x*x\n",
    "x_1 = np.linspace(0,1,100)\n",
    "y_1 = f(x_1)\n",
    "y_2 = x_1\n",
    "plt.Figure(figsize=(6,6))\n",
    "plt.plot(x_1,f(x_1))    \n",
    "plt.plot(x_1,y_2)"
   ]
  },
  {
   "cell_type": "code",
   "execution_count": 100,
   "id": "a9c4ac9a",
   "metadata": {},
   "outputs": [
    {
     "data": {
      "text/latex": [
       "$\\displaystyle \\frac{x^{3}}{3} - \\frac{x^{2}}{2}$"
      ],
      "text/plain": [
       "x**3/3 - x**2/2"
      ]
     },
     "execution_count": 100,
     "metadata": {},
     "output_type": "execute_result"
    }
   ],
   "source": [
    "f_int1 = smp.integrate((x**2 - x),(x))\n",
    "f_resg = smp.lambdify(x,f_int1)\n",
    "f_int1\n"
   ]
  }
 ],
 "metadata": {
  "kernelspec": {
   "display_name": "venv",
   "language": "python",
   "name": "python3"
  },
  "language_info": {
   "codemirror_mode": {
    "name": "ipython",
    "version": 3
   },
   "file_extension": ".py",
   "mimetype": "text/x-python",
   "name": "python",
   "nbconvert_exporter": "python",
   "pygments_lexer": "ipython3",
   "version": "3.13.3"
  }
 },
 "nbformat": 4,
 "nbformat_minor": 5
}
