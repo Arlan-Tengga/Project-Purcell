{
 "cells": [
  {
   "cell_type": "code",
   "execution_count": 1,
   "id": "e84ff8cb",
   "metadata": {},
   "outputs": [],
   "source": [
    "import sympy as smp"
   ]
  },
  {
   "cell_type": "markdown",
   "id": "f3bcbf4c",
   "metadata": {},
   "source": [
    "A particle moves along the x axis subject to a force toward the origin proportional to\n",
    "$x (say −kx)$. Show that the particle executes simple harmonic motion (Example 3).\n",
    "Find the kinetic energy $1/\n",
    "2 mv^2$ and the potential energy $1/2 kx^2$ as functions of t and\n",
    "show that the total energy is constant. Find the time averages of the potential energy\n",
    "and the kinetic energy and show that these averages are each equal to one-half the\n",
    "total energy"
   ]
  },
  {
   "cell_type": "code",
   "execution_count": 115,
   "id": "e21135a2",
   "metadata": {},
   "outputs": [],
   "source": [
    "t = smp.symbols('t')\n",
    "x = smp.Function('x')(t)\n",
    "omega = smp.symbols('omega',positive=True,real=True)"
   ]
  },
  {
   "cell_type": "code",
   "execution_count": 116,
   "id": "3dbc8ccb",
   "metadata": {},
   "outputs": [
    {
     "data": {
      "text/latex": [
       "$\\displaystyle \\omega^{2} x{\\left(t \\right)} + \\frac{d^{2}}{d t^{2}} x{\\left(t \\right)} = 0$"
      ],
      "text/plain": [
       "Eq(omega**2*x(t) + Derivative(x(t), (t, 2)), 0)"
      ]
     },
     "execution_count": 116,
     "metadata": {},
     "output_type": "execute_result"
    }
   ],
   "source": [
    "eq = smp.Eq(x.diff(t,2) + omega**2 *x,0)\n",
    "eq"
   ]
  },
  {
   "cell_type": "code",
   "execution_count": 117,
   "id": "b1c02cfd",
   "metadata": {},
   "outputs": [
    {
     "data": {
      "text/latex": [
       "$\\displaystyle x{\\left(t \\right)} = C_{1} \\sin{\\left(\\omega t \\right)} + C_{2} \\cos{\\left(\\omega t \\right)}$"
      ],
      "text/plain": [
       "Eq(x(t), C1*sin(omega*t) + C2*cos(omega*t))"
      ]
     },
     "execution_count": 117,
     "metadata": {},
     "output_type": "execute_result"
    }
   ],
   "source": [
    "smp.dsolve(eq)"
   ]
  },
  {
   "cell_type": "code",
   "execution_count": null,
   "id": "266593da",
   "metadata": {},
   "outputs": [
    {
     "data": {
      "text/latex": [
       "$\\displaystyle A \\sin{\\left(\\frac{\\sqrt{k} t}{\\sqrt{m}} \\right)} + B \\cos{\\left(\\frac{\\sqrt{k} t}{\\sqrt{m}} \\right)}$"
      ],
      "text/plain": [
       "A*sin(sqrt(k)*t/sqrt(m)) + B*cos(sqrt(k)*t/sqrt(m))"
      ]
     },
     "execution_count": 196,
     "metadata": {},
     "output_type": "execute_result"
    }
   ],
   "source": [
    "t = smp.symbols('t',real=True)\n",
    "A,B, m,k = smp.symbols('A B m k',positive=True,real=True)\n",
    "omega = smp.sqrt(k/m)\n",
    "eq = A*smp.sin(omega*t) + B*smp.cos(omega*t)\n",
    "eq"
   ]
  },
  {
   "cell_type": "code",
   "execution_count": 123,
   "id": "ae664f7d",
   "metadata": {},
   "outputs": [
    {
     "data": {
      "text/latex": [
       "$\\displaystyle \\frac{m \\left(\\frac{A \\sqrt{k} \\cos{\\left(\\frac{\\sqrt{k} t}{\\sqrt{m}} \\right)}}{\\sqrt{m}} - \\frac{B \\sqrt{k} \\sin{\\left(\\frac{\\sqrt{k} t}{\\sqrt{m}} \\right)}}{\\sqrt{m}}\\right)^{2}}{2}$"
      ],
      "text/plain": [
       "m*(A*sqrt(k)*cos(sqrt(k)*t/sqrt(m))/sqrt(m) - B*sqrt(k)*sin(sqrt(k)*t/sqrt(m))/sqrt(m))**2/2"
      ]
     },
     "execution_count": 123,
     "metadata": {},
     "output_type": "execute_result"
    }
   ],
   "source": [
    "# energi kinetik gerak\n",
    "v = eq.diff(t)\n",
    "ek = smp.Rational(1,2)*m*v**2\n",
    "ek"
   ]
  },
  {
   "cell_type": "code",
   "execution_count": 126,
   "id": "0e1965a4",
   "metadata": {},
   "outputs": [
    {
     "data": {
      "text/latex": [
       "$\\displaystyle \\frac{k \\left(A \\sin{\\left(\\frac{\\sqrt{k} t}{\\sqrt{m}} \\right)} + B \\cos{\\left(\\frac{\\sqrt{k} t}{\\sqrt{m}} \\right)}\\right)^{2}}{2}$"
      ],
      "text/plain": [
       "k*(A*sin(sqrt(k)*t/sqrt(m)) + B*cos(sqrt(k)*t/sqrt(m)))**2/2"
      ]
     },
     "execution_count": 126,
     "metadata": {},
     "output_type": "execute_result"
    }
   ],
   "source": [
    "# Energi potensial\n",
    "ep = smp.Rational(1,2)*k*eq**2\n",
    "ep\n"
   ]
  },
  {
   "cell_type": "code",
   "execution_count": 127,
   "id": "938e5715",
   "metadata": {},
   "outputs": [
    {
     "data": {
      "text/latex": [
       "$\\displaystyle \\frac{k \\left(A^{2} + B^{2}\\right)}{2}$"
      ],
      "text/plain": [
       "k*(A**2 + B**2)/2"
      ]
     },
     "execution_count": 127,
     "metadata": {},
     "output_type": "execute_result"
    }
   ],
   "source": [
    "energi =ek + ep\n",
    "smp.simplify(energi)"
   ]
  },
  {
   "cell_type": "markdown",
   "id": "5878d9db",
   "metadata": {},
   "source": [
    "### Gravitational Force\n",
    "\n",
    "The gravitational force on a particle of mass $m$ inside the earth at a distance $r$ from\n",
    "the center ($r$ < the radius of the earth $R$) is $F = −mgr/R$. Show that a particle placed in an evacuated tube through the center\n",
    "of the earth would execute simple harmonic motion. Find the period of this motion"
   ]
  },
  {
   "cell_type": "code",
   "execution_count": null,
   "id": "fee9d3d1",
   "metadata": {},
   "outputs": [],
   "source": [
    "t = smp.symbols('t',real=True)\n",
    "r = smp.Function('r')(t)\n",
    "R,g = smp.symbols('R g',real=True,positive=True)\n",
    "omega = smp.sqrt(g/R)"
   ]
  },
  {
   "cell_type": "code",
   "execution_count": 25,
   "id": "a50b5566",
   "metadata": {},
   "outputs": [
    {
     "data": {
      "text/latex": [
       "$\\displaystyle \\frac{d^{2}}{d t^{2}} r{\\left(t \\right)} + \\frac{g r{\\left(t \\right)}}{R} = 0$"
      ],
      "text/plain": [
       "Eq(Derivative(r(t), (t, 2)) + g*r(t)/R, 0)"
      ]
     },
     "execution_count": 25,
     "metadata": {},
     "output_type": "execute_result"
    }
   ],
   "source": [
    "eq = smp.Eq(r.diff(t,2) +omega**2 * r,0)\n",
    "eq"
   ]
  },
  {
   "cell_type": "code",
   "execution_count": 30,
   "id": "5336aa66",
   "metadata": {},
   "outputs": [],
   "source": [
    "eq_s = smp.dsolve(eq)"
   ]
  },
  {
   "cell_type": "code",
   "execution_count": 23,
   "id": "55afb661",
   "metadata": {},
   "outputs": [
    {
     "data": {
      "text/latex": [
       "$\\displaystyle A \\cos{\\left(\\frac{\\sqrt{g} t}{\\sqrt{R}} \\right)} + B \\sin{\\left(\\frac{\\sqrt{g} t}{\\sqrt{R}} \\right)}$"
      ],
      "text/plain": [
       "A*cos(sqrt(g)*t/sqrt(R)) + B*sin(sqrt(g)*t/sqrt(R))"
      ]
     },
     "execution_count": 23,
     "metadata": {},
     "output_type": "execute_result"
    }
   ],
   "source": [
    "A,B = smp.symbols('A B')\n",
    "eq_1 = A*smp.cos(smp.sqrt((g)/(R))*t) + B*smp.sin(smp.sqrt((g)/(R))*t)\n",
    "eq_1"
   ]
  },
  {
   "cell_type": "code",
   "execution_count": 32,
   "id": "f4c6c992",
   "metadata": {},
   "outputs": [
    {
     "data": {
      "text/latex": [
       "$\\displaystyle - \\frac{A \\sqrt{g} \\sin{\\left(\\frac{\\sqrt{g} t}{\\sqrt{R}} \\right)}}{\\sqrt{R}} + \\frac{B \\sqrt{g} \\cos{\\left(\\frac{\\sqrt{g} t}{\\sqrt{R}} \\right)}}{\\sqrt{R}}$"
      ],
      "text/plain": [
       "-A*sqrt(g)*sin(sqrt(g)*t/sqrt(R))/sqrt(R) + B*sqrt(g)*cos(sqrt(g)*t/sqrt(R))/sqrt(R)"
      ]
     },
     "execution_count": 32,
     "metadata": {},
     "output_type": "execute_result"
    }
   ],
   "source": [
    "eq_1.diff(t)"
   ]
  },
  {
   "cell_type": "code",
   "execution_count": null,
   "id": "e826b47f",
   "metadata": {},
   "outputs": [
    {
     "data": {
      "text/latex": [
       "$\\displaystyle \\frac{2 \\pi \\sqrt{R}}{\\sqrt{g}}$"
      ],
      "text/plain": [
       "2*pi*sqrt(R)/sqrt(g)"
      ]
     },
     "execution_count": 35,
     "metadata": {},
     "output_type": "execute_result"
    }
   ],
   "source": [
    "# teta approximate very small\n",
    "T = 2*smp.pi/omega\n",
    "smp.sympify(T) "
   ]
  },
  {
   "cell_type": "markdown",
   "id": "b3e93948",
   "metadata": {},
   "source": [
    "Find (in terms of $L$ and $C$) the frequency of electrical oscillations in a series circuit\n",
    "(Figure 1.1) if $R = 0$ and $V = 0$, but $I \\neq 0$. (When you tune a radio, you are\n",
    "adjusting $C$ and/or $L$ to make this frequency equal to that of the radio station.)"
   ]
  },
  {
   "cell_type": "code",
   "execution_count": 67,
   "id": "8d437cb9",
   "metadata": {},
   "outputs": [],
   "source": [
    "t = smp.symbols('t',real=True)\n",
    "q = smp.Function('q')(t)\n",
    "L,R,C = smp.symbols('L R C',positive=True,real=True)"
   ]
  },
  {
   "cell_type": "code",
   "execution_count": 68,
   "id": "4ab74660",
   "metadata": {},
   "outputs": [
    {
     "data": {
      "text/latex": [
       "$\\displaystyle L \\frac{d^{2}}{d t^{2}} q{\\left(t \\right)} + R \\frac{d}{d t} q{\\left(t \\right)} + \\frac{q{\\left(t \\right)}}{C} = 0$"
      ],
      "text/plain": [
       "Eq(L*Derivative(q(t), (t, 2)) + R*Derivative(q(t), t) + q(t)/C, 0)"
      ]
     },
     "execution_count": 68,
     "metadata": {},
     "output_type": "execute_result"
    }
   ],
   "source": [
    "eq = smp.Eq(L*q.diff(t,2) + R*q.diff(t) + 1/C * q,0)\n",
    "eq"
   ]
  },
  {
   "cell_type": "code",
   "execution_count": 69,
   "id": "916173aa",
   "metadata": {},
   "outputs": [
    {
     "data": {
      "text/latex": [
       "$\\displaystyle q{\\left(t \\right)} = C_{1} e^{\\frac{t \\left(- R + \\frac{\\sqrt{C R^{2} - 4 L}}{\\sqrt{C}}\\right)}{2 L}} + C_{2} e^{- \\frac{t \\left(R + \\frac{\\sqrt{C R^{2} - 4 L}}{\\sqrt{C}}\\right)}{2 L}}$"
      ],
      "text/plain": [
       "Eq(q(t), C1*exp(t*(-R + sqrt(C*R**2 - 4*L)/sqrt(C))/(2*L)) + C2*exp(-t*(R + sqrt(C*R**2 - 4*L)/sqrt(C))/(2*L)))"
      ]
     },
     "execution_count": 69,
     "metadata": {},
     "output_type": "execute_result"
    }
   ],
   "source": [
    "eq_s = smp.dsolve(eq)\n",
    "eq_s"
   ]
  },
  {
   "cell_type": "code",
   "execution_count": 72,
   "id": "bb4ea213",
   "metadata": {},
   "outputs": [
    {
     "data": {
      "text/latex": [
       "$\\displaystyle A \\sin{\\left(\\frac{- R + \\sqrt{R^{2} - \\frac{4 L}{C}}}{2 L} \\right)} + B \\cos{\\left(\\frac{R + \\sqrt{R^{2} - \\frac{4 L}{C}}}{2 L} \\right)}$"
      ],
      "text/plain": [
       "A*sin((-R + sqrt(R**2 - 4*L/C))/(2*L)) + B*cos((R + sqrt(R**2 - 4*L/C))/(2*L))"
      ]
     },
     "execution_count": 72,
     "metadata": {},
     "output_type": "execute_result"
    }
   ],
   "source": [
    "A,B = smp.symbols('A B')\n",
    "s_1 = (-R + smp.sqrt(R**2 - 4* L/C))/(2*L)\n",
    "s_2 = (R + smp.sqrt(R**2 - 4* L/C))/(2*L)\n",
    "theta = A*smp.sin(s_1) + B*smp.cos(s_2)\n",
    "theta"
   ]
  },
  {
   "cell_type": "code",
   "execution_count": 73,
   "id": "34eaed10",
   "metadata": {},
   "outputs": [
    {
     "data": {
      "text/latex": [
       "$\\displaystyle L \\frac{d^{2}}{d t^{2}} q{\\left(t \\right)} + \\frac{q{\\left(t \\right)}}{C} = 0$"
      ],
      "text/plain": [
       "Eq(L*Derivative(q(t), (t, 2)) + q(t)/C, 0)"
      ]
     },
     "execution_count": 73,
     "metadata": {},
     "output_type": "execute_result"
    }
   ],
   "source": [
    "# jika R = 0  dan V = 0\n",
    "eq_new = smp.Eq(q.diff(t,2)*L + (1/C)*q,0)\n",
    "eq_new"
   ]
  },
  {
   "cell_type": "code",
   "execution_count": 75,
   "id": "2d894481",
   "metadata": {},
   "outputs": [
    {
     "data": {
      "text/latex": [
       "$\\displaystyle q{\\left(t \\right)} = C_{1} \\sin{\\left(\\frac{t}{\\sqrt{C} \\sqrt{L}} \\right)} + C_{2} \\cos{\\left(\\frac{t}{\\sqrt{C} \\sqrt{L}} \\right)}$"
      ],
      "text/plain": [
       "Eq(q(t), C1*sin(t/(sqrt(C)*sqrt(L))) + C2*cos(t/(sqrt(C)*sqrt(L))))"
      ]
     },
     "execution_count": 75,
     "metadata": {},
     "output_type": "execute_result"
    }
   ],
   "source": [
    "smp.dsolve(eq_new)\n",
    "# sistem berosilasi selamanya(tidak ada redaman)"
   ]
  },
  {
   "cell_type": "code",
   "execution_count": 80,
   "id": "4bcb8d9d",
   "metadata": {},
   "outputs": [
    {
     "data": {
      "text/latex": [
       "$\\displaystyle \\frac{1}{\\sqrt{C} \\sqrt{L}}$"
      ],
      "text/plain": [
       "1/(sqrt(C)*sqrt(L))"
      ]
     },
     "execution_count": 80,
     "metadata": {},
     "output_type": "execute_result"
    }
   ],
   "source": [
    "omega = 1/smp.sqrt(L*C)\n",
    "omega"
   ]
  },
  {
   "cell_type": "code",
   "execution_count": 87,
   "id": "6742c93b",
   "metadata": {},
   "outputs": [
    {
     "data": {
      "text/latex": [
       "$\\displaystyle \\frac{1}{2 \\pi \\sqrt{C} \\sqrt{L}}$"
      ],
      "text/plain": [
       "1/(2*pi*sqrt(C)*sqrt(L))"
      ]
     },
     "execution_count": 87,
     "metadata": {},
     "output_type": "execute_result"
    }
   ],
   "source": [
    "f = 1/(2*smp.pi*smp.sqrt(L*C))\n",
    "f"
   ]
  },
  {
   "cell_type": "markdown",
   "id": "92efab6f",
   "metadata": {},
   "source": [
    "A block of wood is floating in water; it is depressed slightly and then released to\n",
    "oscillate up and down. Assume that the top and bottom of the block are parallel\n",
    "planes which remain horizontal during the oscillations and that the sides of the block\n",
    "are vertical. Show that the period of the motion (neglecting friction) is $2π \\sqrt\\frac{h}{g}$,\n",
    "where h is the vertical height of the part of the block under water when it is floating\n",
    "at rest. Hint: Recall that the buoyant force is equal to the weight of displaced water"
   ]
  },
  {
   "cell_type": "code",
   "execution_count": null,
   "id": "6c166503",
   "metadata": {},
   "outputs": [],
   "source": []
  }
 ],
 "metadata": {
  "kernelspec": {
   "display_name": "venv",
   "language": "python",
   "name": "python3"
  },
  "language_info": {
   "codemirror_mode": {
    "name": "ipython",
    "version": 3
   },
   "file_extension": ".py",
   "mimetype": "text/x-python",
   "name": "python",
   "nbconvert_exporter": "python",
   "pygments_lexer": "ipython3",
   "version": "3.13.3"
  }
 },
 "nbformat": 4,
 "nbformat_minor": 5
}
